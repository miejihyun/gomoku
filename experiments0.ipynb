{
  "nbformat": 4,
  "nbformat_minor": 0,
  "metadata": {
    "colab": {
      "name": "experiments0.ipynb",
      "provenance": [],
      "collapsed_sections": []
    },
    "kernelspec": {
      "name": "python3",
      "display_name": "Python 3"
    },
    "language_info": {
      "name": "python"
    }
  },
  "cells": [
    {
      "cell_type": "markdown",
      "source": [
        "# Prep"
      ],
      "metadata": {
        "id": "r46wrCt74H3w"
      }
    },
    {
      "cell_type": "code",
      "execution_count": null,
      "metadata": {
        "colab": {
          "base_uri": "https://localhost:8080/"
        },
        "id": "is7Ns0Jh3Dj9",
        "outputId": "585f9843-e882-4143-f20e-b6fa2fbcf36f"
      },
      "outputs": [
        {
          "output_type": "stream",
          "name": "stdout",
          "text": [
            "Mounted at /content/drive\n"
          ]
        }
      ],
      "source": [
        "from google.colab import drive\n",
        "drive.mount('/content/drive')\n",
        "\n",
        "import os\n",
        "path = \"/content/drive/My Drive/gomoku original\"\n",
        "os.chdir(path)"
      ]
    },
    {
      "cell_type": "code",
      "source": [
        "from board import Board\n",
        "from move import Move\n",
        "import datetime\n",
        "from basic import *\n",
        "from ucb import UCB\n",
        "from rave import BestMoveRAVE\n",
        "from uctNested import BestMoveUCTNested\n",
        "import numpy as np"
      ],
      "metadata": {
        "id": "Vm9T6mVH3qwD"
      },
      "execution_count": null,
      "outputs": []
    },
    {
      "cell_type": "markdown",
      "source": [
        "# Battle 1"
      ],
      "metadata": {
        "id": "QvTOlGmv4J7x"
      }
    },
    {
      "cell_type": "markdown",
      "source": [
        "UCB vs RAVE\n",
        "\n",
        "- black: UCB\n",
        "- white: RAVE"
      ],
      "metadata": {
        "id": "4_ImA7RN4L2f"
      }
    },
    {
      "cell_type": "code",
      "source": [
        "win_black = 0\n",
        "win_white = 0\n",
        "winner = []\n",
        "for i in range(10):\n",
        "    board = Board()\n",
        "    terminal = False\n",
        "    while not terminal:\n",
        "        if board.turn == White:\n",
        "            move = BestMoveRAVE(board,1000)\n",
        "            board.play(move)\n",
        "        else:\n",
        "            move = UCB(board,1000)\n",
        "            board.play(move)\n",
        "        terminal = board.terminal()\n",
        "        if terminal:\n",
        "            if board.score() == 1:\n",
        "                win_white += 1\n",
        "            if board.score() == 0:\n",
        "                win_black += 1\n",
        "            winner.append(board.score())\n"
      ],
      "metadata": {
        "id": "u501RXJz4FjZ"
      },
      "execution_count": null,
      "outputs": []
    },
    {
      "cell_type": "code",
      "source": [
        "print(winner)"
      ],
      "metadata": {
        "colab": {
          "base_uri": "https://localhost:8080/"
        },
        "id": "9JfUmXIhTlxU",
        "outputId": "3d2cb10e-8ba3-4868-86cf-6b949ced6c29"
      },
      "execution_count": null,
      "outputs": [
        {
          "output_type": "stream",
          "name": "stdout",
          "text": [
            "[1.0, 1.0, 1.0, 1.0, 1.0, 1.0, 1.0, 1.0, 1.0, 1.0]\n"
          ]
        }
      ]
    },
    {
      "cell_type": "markdown",
      "source": [
        "- black: RAVE\n",
        "- white: UCB"
      ],
      "metadata": {
        "id": "PPIIiXIXoMcY"
      }
    },
    {
      "cell_type": "code",
      "source": [
        "win_black_inv = 0\n",
        "win_white_inv = 0\n",
        "winner_inv = []\n",
        "for i in range(10):\n",
        "    board = Board()\n",
        "    terminal = False\n",
        "    while not terminal:\n",
        "        if board.turn == White:\n",
        "            move = UCB(board,1000)\n",
        "            board.play(move)\n",
        "        else:\n",
        "            move = BestMoveRAVE(board,1000)\n",
        "            board.play(move)\n",
        "        terminal = board.terminal()\n",
        "        if terminal:\n",
        "            if board.score() == 1:\n",
        "                win_white_inv += 1\n",
        "            if board.score() == 0:\n",
        "                win_black_inv += 1\n",
        "            winner_inv.append(board.score())\n"
      ],
      "metadata": {
        "id": "zFGqOnxsSRsW"
      },
      "execution_count": null,
      "outputs": []
    },
    {
      "cell_type": "code",
      "source": [
        "print(winner_inv)"
      ],
      "metadata": {
        "colab": {
          "base_uri": "https://localhost:8080/"
        },
        "id": "oGwgbkTmTpPf",
        "outputId": "47be8da1-c069-4b35-dee2-8cf4160cd3eb"
      },
      "execution_count": null,
      "outputs": [
        {
          "output_type": "stream",
          "name": "stdout",
          "text": [
            "[0.0, 0.0, 0.0, 0.0, 0.0, 0.0, 0.0, 0.0, 0.0, 0.0]\n"
          ]
        }
      ]
    },
    {
      "cell_type": "markdown",
      "source": [
        "# Self Battle"
      ],
      "metadata": {
        "id": "zw1y2S8EwHZg"
      }
    },
    {
      "cell_type": "code",
      "source": [
        "win_black = 0\n",
        "win_white = 0\n",
        "winner = []\n",
        "for i in range(10):\n",
        "    board = Board()\n",
        "    terminal = False\n",
        "    while not terminal:\n",
        "        if board.turn == White:\n",
        "            move = UCB(board,1000)\n",
        "            board.play(move)\n",
        "        else:\n",
        "            move = UCB(board,1000)\n",
        "            board.play(move)\n",
        "        terminal = board.terminal()\n",
        "        if terminal:\n",
        "            if board.score() == 1:\n",
        "                win_white += 1\n",
        "            if board.score() == 0:\n",
        "                win_black += 1\n",
        "            winner.append(board.score())"
      ],
      "metadata": {
        "id": "f2eGouAPwK01"
      },
      "execution_count": null,
      "outputs": []
    },
    {
      "cell_type": "code",
      "source": [
        "print(winner)"
      ],
      "metadata": {
        "colab": {
          "base_uri": "https://localhost:8080/"
        },
        "id": "Tdggl4G-wSJD",
        "outputId": "c3aba9f1-396f-4850-ed89-c32f74865565"
      },
      "execution_count": null,
      "outputs": [
        {
          "output_type": "stream",
          "name": "stdout",
          "text": [
            "[0.0, 1.0, 1.0, 0.0, 1.0, 1.0, 0.0, 0.0, 1.0, 1.0]\n"
          ]
        }
      ]
    },
    {
      "cell_type": "code",
      "source": [
        "win_black = 0\n",
        "win_white = 0\n",
        "winner = []\n",
        "for i in range(10):\n",
        "    board = Board()\n",
        "    terminal = False\n",
        "    while not terminal:\n",
        "        if board.turn == White:\n",
        "            move = BestMoveRAVE(board,1000)\n",
        "            board.play(move)\n",
        "        else:\n",
        "            move = BestMoveRAVE(board,1000)\n",
        "            board.play(move)\n",
        "        terminal = board.terminal()\n",
        "        if terminal:\n",
        "            if board.score() == 1:\n",
        "                win_white += 1\n",
        "            if board.score() == 0:\n",
        "                win_black += 1\n",
        "            winner.append(board.score())"
      ],
      "metadata": {
        "id": "Nq2zzXojwUYe"
      },
      "execution_count": null,
      "outputs": []
    },
    {
      "cell_type": "code",
      "source": [
        "print(winner)"
      ],
      "metadata": {
        "id": "zKddPoi-wXu4",
        "colab": {
          "base_uri": "https://localhost:8080/"
        },
        "outputId": "f9708f36-eef1-4a70-a6e1-3c5d9f56c50a"
      },
      "execution_count": null,
      "outputs": [
        {
          "output_type": "stream",
          "name": "stdout",
          "text": [
            "[1.0, 0.0, 0.0, 0.0, 1.0, 0.0, 0.0, 0.0, 1.0, 1.0]\n"
          ]
        }
      ]
    },
    {
      "cell_type": "markdown",
      "source": [
        "# Time"
      ],
      "metadata": {
        "id": "U98oPRHetFUz"
      }
    },
    {
      "cell_type": "code",
      "source": [
        "starttime = datetime.datetime.now()\n",
        "board = Board()\n",
        "move = UCB(board,1000)\n",
        "board.play(move)\n",
        "endtime = datetime.datetime.now()\n",
        "print((endtime-starttime).seconds)"
      ],
      "metadata": {
        "colab": {
          "base_uri": "https://localhost:8080/"
        },
        "id": "nKI_M1X5tKnz",
        "outputId": "93dd22e9-26e8-474c-ea5e-4c0f150bd2ed"
      },
      "execution_count": null,
      "outputs": [
        {
          "output_type": "stream",
          "name": "stdout",
          "text": [
            "99\n"
          ]
        }
      ]
    },
    {
      "cell_type": "code",
      "source": [
        "starttime = datetime.datetime.now()\n",
        "board = Board()\n",
        "move = BestMoveRAVE(board,1000)\n",
        "board.play(move)\n",
        "endtime = datetime.datetime.now()\n",
        "print((endtime-starttime).seconds)"
      ],
      "metadata": {
        "colab": {
          "base_uri": "https://localhost:8080/"
        },
        "id": "tj8xvhOhtZxU",
        "outputId": "00b9d532-20af-4b6a-c5e8-ef48af36fc9d"
      },
      "execution_count": null,
      "outputs": [
        {
          "output_type": "stream",
          "name": "stdout",
          "text": [
            "105\n"
          ]
        }
      ]
    },
    {
      "cell_type": "code",
      "source": [
        "starttime = datetime.datetime.now()\n",
        "board = Board()\n",
        "move = BestMoveUCTNested(board,1000)\n",
        "board.play(move)\n",
        "endtime = datetime.datetime.now()\n",
        "print((endtime-starttime).seconds)"
      ],
      "metadata": {
        "id": "7vlpS6C2lQzf"
      },
      "execution_count": null,
      "outputs": []
    },
    {
      "cell_type": "code",
      "source": [
        "starttime = datetime.datetime.now()\n",
        "board = Board()\n",
        "move = UCB(board,100)\n",
        "board.play(move)\n",
        "endtime = datetime.datetime.now()\n",
        "print((endtime-starttime).seconds)"
      ],
      "metadata": {
        "colab": {
          "base_uri": "https://localhost:8080/"
        },
        "id": "NWzqf3nttskb",
        "outputId": "a08b22dd-984f-4a10-9035-c4a3cfb0552f"
      },
      "execution_count": null,
      "outputs": [
        {
          "output_type": "stream",
          "name": "stdout",
          "text": [
            "10\n"
          ]
        }
      ]
    },
    {
      "cell_type": "code",
      "source": [
        "starttime = datetime.datetime.now()\n",
        "board = Board()\n",
        "move = BestMoveRAVE(board,100)\n",
        "board.play(move)\n",
        "endtime = datetime.datetime.now()\n",
        "print((endtime-starttime).seconds)"
      ],
      "metadata": {
        "colab": {
          "base_uri": "https://localhost:8080/"
        },
        "id": "6L40u-cqtqNy",
        "outputId": "e45182de-5c3c-4039-c852-4c7e530b4535"
      },
      "execution_count": null,
      "outputs": [
        {
          "output_type": "stream",
          "name": "stdout",
          "text": [
            "10\n"
          ]
        }
      ]
    },
    {
      "cell_type": "code",
      "source": [
        "starttime = datetime.datetime.now()\n",
        "board = Board()\n",
        "move = BestMoveUCTNested(board,100)\n",
        "board.play(move)\n",
        "endtime = datetime.datetime.now()\n",
        "print((endtime-starttime).seconds)"
      ],
      "metadata": {
        "id": "lZ9stoxHtghT"
      },
      "execution_count": null,
      "outputs": []
    }
  ]
}