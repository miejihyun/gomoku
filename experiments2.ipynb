{
  "nbformat": 4,
  "nbformat_minor": 0,
  "metadata": {
    "colab": {
      "name": "experiments2.ipynb",
      "provenance": [],
      "collapsed_sections": []
    },
    "kernelspec": {
      "name": "python3",
      "display_name": "Python 3"
    },
    "language_info": {
      "name": "python"
    }
  },
  "cells": [
    {
      "cell_type": "markdown",
      "source": [
        "# Prep"
      ],
      "metadata": {
        "id": "r46wrCt74H3w"
      }
    },
    {
      "cell_type": "code",
      "execution_count": null,
      "metadata": {
        "colab": {
          "base_uri": "https://localhost:8080/"
        },
        "id": "is7Ns0Jh3Dj9",
        "outputId": "253afc1a-f649-4eaf-d618-12ba6dd5e530"
      },
      "outputs": [
        {
          "output_type": "stream",
          "name": "stdout",
          "text": [
            "Mounted at /content/drive\n"
          ]
        }
      ],
      "source": [
        "from google.colab import drive\n",
        "drive.mount('/content/drive')\n",
        "\n",
        "import os\n",
        "path = \"/content/drive/My Drive/gomoku simplified\"\n",
        "os.chdir(path)"
      ]
    },
    {
      "cell_type": "code",
      "source": [
        "from board import Board\n",
        "from move import Move\n",
        "import datetime\n",
        "from basic import *\n",
        "from ucb import UCB\n",
        "from rave import BestMoveRAVE\n",
        "from uctNested import BestMoveUCTNested\n",
        "import numpy as np"
      ],
      "metadata": {
        "id": "Vm9T6mVH3qwD"
      },
      "execution_count": null,
      "outputs": []
    },
    {
      "cell_type": "markdown",
      "source": [
        "# Battle 1"
      ],
      "metadata": {
        "id": "QvTOlGmv4J7x"
      }
    },
    {
      "cell_type": "markdown",
      "source": [
        "UCB vs RAVE\n",
        "\n",
        "- black: UCB\n",
        "- white: RAVE"
      ],
      "metadata": {
        "id": "4_ImA7RN4L2f"
      }
    },
    {
      "cell_type": "code",
      "source": [
        "win_black = 0\n",
        "win_white = 0\n",
        "winner = []\n",
        "for i in range(10):\n",
        "    board = Board()\n",
        "    terminal = False\n",
        "    while not terminal:\n",
        "        if board.turn == White:\n",
        "            move = BestMoveRAVE(board,1000)\n",
        "            board.play(move)\n",
        "        else:\n",
        "            move = UCB(board,1000)\n",
        "            board.play(move)\n",
        "        terminal = board.terminal()\n",
        "        if terminal:\n",
        "            if board.score() == 1:\n",
        "                win_white += 1\n",
        "            if board.score() == 0:\n",
        "                win_black += 1\n",
        "            winner.append(board.score())\n"
      ],
      "metadata": {
        "id": "u501RXJz4FjZ"
      },
      "execution_count": null,
      "outputs": []
    },
    {
      "cell_type": "code",
      "source": [
        "print(winner)"
      ],
      "metadata": {
        "colab": {
          "base_uri": "https://localhost:8080/"
        },
        "id": "9JfUmXIhTlxU",
        "outputId": "67525512-2f3f-4e63-ba6f-ad5107484186"
      },
      "execution_count": null,
      "outputs": [
        {
          "output_type": "stream",
          "name": "stdout",
          "text": [
            "[0.5, 0.5, 0.5, 0.5, 0.5, 0.5, 0.5, 0.5, 0.5, 0.5]\n"
          ]
        }
      ]
    },
    {
      "cell_type": "markdown",
      "source": [
        "- black: RAVE\n",
        "- white: UCB"
      ],
      "metadata": {
        "id": "PPIIiXIXoMcY"
      }
    },
    {
      "cell_type": "code",
      "source": [
        "win_black_inv = 0\n",
        "win_white_inv = 0\n",
        "winner_inv = []\n",
        "for i in range(10):\n",
        "    board = Board()\n",
        "    terminal = False\n",
        "    while not terminal:\n",
        "        if board.turn == White:\n",
        "            move = UCB(board,1000)\n",
        "            board.play(move)\n",
        "        else:\n",
        "            move = BestMoveRAVE(board,1000)\n",
        "            board.play(move)\n",
        "        terminal = board.terminal()\n",
        "        if terminal:\n",
        "            if board.score() == 1:\n",
        "                win_white_inv += 1\n",
        "            if board.score() == 0:\n",
        "                win_black_inv += 1\n",
        "            winner_inv.append(board.score())\n"
      ],
      "metadata": {
        "id": "zFGqOnxsSRsW"
      },
      "execution_count": null,
      "outputs": []
    },
    {
      "cell_type": "code",
      "source": [
        "print(winner_inv)"
      ],
      "metadata": {
        "colab": {
          "base_uri": "https://localhost:8080/"
        },
        "id": "oGwgbkTmTpPf",
        "outputId": "77694483-9410-4caa-fc98-634396bb430d"
      },
      "execution_count": null,
      "outputs": [
        {
          "output_type": "stream",
          "name": "stdout",
          "text": [
            "[0.0, 0.0, 0.5, 0.5, 0.0, 0.0, 0.0, 0.0, 0.5, 0.5]\n"
          ]
        }
      ]
    },
    {
      "cell_type": "markdown",
      "source": [
        "# Battle 2\n"
      ],
      "metadata": {
        "id": "bq-8El5loROS"
      }
    },
    {
      "cell_type": "code",
      "source": [
        "win_black = 0\n",
        "win_white = 0\n",
        "winner = []\n",
        "for i in range(10):\n",
        "    board = Board()\n",
        "    terminal = False\n",
        "    while not terminal:\n",
        "        if board.turn == White:\n",
        "            move = BestMoveRAVE(board,1000)\n",
        "            board.play(move)\n",
        "        else:\n",
        "            move = BestMoveUCTNested(board,1000)\n",
        "            board.play(move)\n",
        "        terminal = board.terminal()\n",
        "        if terminal:\n",
        "            if board.score() == 1:\n",
        "                win_white += 1\n",
        "            if board.score() == 0:\n",
        "                win_black += 1\n",
        "            winner.append(board.score())"
      ],
      "metadata": {
        "id": "CNCJ4Ki2oVTQ"
      },
      "execution_count": null,
      "outputs": []
    },
    {
      "cell_type": "code",
      "source": [
        "print(winner)"
      ],
      "metadata": {
        "colab": {
          "base_uri": "https://localhost:8080/"
        },
        "id": "PlKkDoOeNlKb",
        "outputId": "b27b3b01-4b40-4b86-ace1-f5f56a2c523a"
      },
      "execution_count": null,
      "outputs": [
        {
          "output_type": "stream",
          "name": "stdout",
          "text": [
            "[0.5, 0.5, 0.5, 0.5, 0.5, 0.5, 0.5, 0.5, 0.5, 0.5]\n"
          ]
        }
      ]
    },
    {
      "cell_type": "code",
      "source": [
        "win_black_inv = 0\n",
        "win_white_inv = 0\n",
        "winner_inv = []\n",
        "for i in range(10):\n",
        "    board = Board()\n",
        "    terminal = False\n",
        "    while not terminal:\n",
        "        if board.turn == White:\n",
        "            move = BestMoveUCTNested(board,1000)\n",
        "            board.play(move)\n",
        "        else:\n",
        "            move = BestMoveRAVE(board,1000)\n",
        "            board.play(move)\n",
        "        terminal = board.terminal()\n",
        "        if terminal:\n",
        "            if board.score() == 1:\n",
        "                win_white_inv += 1\n",
        "            if board.score() == 0:\n",
        "                win_black_inv += 1\n",
        "            winner_inv.append(board.score())"
      ],
      "metadata": {
        "id": "TNtjUWzVNgCY"
      },
      "execution_count": null,
      "outputs": []
    },
    {
      "cell_type": "code",
      "source": [
        "print(winner_inv)"
      ],
      "metadata": {
        "colab": {
          "base_uri": "https://localhost:8080/"
        },
        "id": "8a89gih8NoUW",
        "outputId": "cdb7d95c-7bd6-4c70-bf65-9df8174ed936"
      },
      "execution_count": null,
      "outputs": [
        {
          "output_type": "stream",
          "name": "stdout",
          "text": [
            "[0.5, 0.5, 0.5, 0.5, 0.5, 0.5, 0.5, 0.5, 0.5, 0.5]\n"
          ]
        }
      ]
    },
    {
      "cell_type": "markdown",
      "source": [
        "# Battle 3 "
      ],
      "metadata": {
        "id": "Ace_4eX2P1FT"
      }
    },
    {
      "cell_type": "code",
      "source": [
        "win_black = 0\n",
        "win_white = 0\n",
        "winner = []\n",
        "for i in range(10):\n",
        "    board = Board()\n",
        "    terminal = False\n",
        "    while not terminal:\n",
        "        if board.turn == White:\n",
        "            move = UCB(board,1000)\n",
        "            board.play(move)\n",
        "        else:\n",
        "            move = BestMoveUCTNested(board,1000)\n",
        "            board.play(move)\n",
        "        terminal = board.terminal()\n",
        "        if terminal:\n",
        "            if board.score() == 1:\n",
        "                win_white += 1\n",
        "            if board.score() == 0:\n",
        "                win_black += 1\n",
        "            winner.append(board.score())"
      ],
      "metadata": {
        "id": "hbhPMfZ7P6cW"
      },
      "execution_count": null,
      "outputs": []
    },
    {
      "cell_type": "code",
      "source": [
        "print(winner)"
      ],
      "metadata": {
        "colab": {
          "base_uri": "https://localhost:8080/"
        },
        "id": "g46vHqJWP9ep",
        "outputId": "f4eb674f-2b02-4af9-83ad-42c6fa450924"
      },
      "execution_count": null,
      "outputs": [
        {
          "output_type": "stream",
          "name": "stdout",
          "text": [
            "[0.0, 0.0, 0.0, 0.0, 0.0, 0.0, 0.0, 0.0, 0.0, 0.0]\n"
          ]
        }
      ]
    },
    {
      "cell_type": "code",
      "source": [
        "win_black_inv = 0\n",
        "win_white_inv = 0\n",
        "winner_inv = []\n",
        "for i in range(10):\n",
        "    board = Board()\n",
        "    terminal = False\n",
        "    while not terminal:\n",
        "        if board.turn == White:\n",
        "            move = BestMoveUCTNested(board,1000)\n",
        "            board.play(move)\n",
        "        else:\n",
        "            move = UCB(board,1000)\n",
        "            board.play(move)\n",
        "        terminal = board.terminal()\n",
        "        if terminal:\n",
        "            if board.score() == 1:\n",
        "                win_white_inv += 1\n",
        "            if board.score() == 0:\n",
        "                win_black_inv += 1\n",
        "            winner_inv.append(board.score())"
      ],
      "metadata": {
        "id": "4XxxYjNEP_mw"
      },
      "execution_count": null,
      "outputs": []
    },
    {
      "cell_type": "code",
      "source": [
        "print(winner_inv)"
      ],
      "metadata": {
        "colab": {
          "base_uri": "https://localhost:8080/"
        },
        "id": "6k31ZJt0QEdy",
        "outputId": "76dadfcb-2607-4a61-ea4e-83695de51892"
      },
      "execution_count": null,
      "outputs": [
        {
          "output_type": "stream",
          "name": "stdout",
          "text": [
            "[0.5, 0.5, 0.5, 0.5, 0.5, 0.5, 0.5, 0.5, 0.5, 0.5]\n"
          ]
        }
      ]
    },
    {
      "cell_type": "markdown",
      "source": [
        "# Self Battle"
      ],
      "metadata": {
        "id": "Bp0LWKye2cNV"
      }
    },
    {
      "cell_type": "code",
      "source": [
        "win_black = 0\n",
        "win_white = 0\n",
        "winner = []\n",
        "for i in range(10):\n",
        "    board = Board()\n",
        "    terminal = False\n",
        "    while not terminal:\n",
        "        if board.turn == White:\n",
        "            move = UCB(board,1000)\n",
        "            board.play(move)\n",
        "        else:\n",
        "            move = UCB(board,1000)\n",
        "            board.play(move)\n",
        "        terminal = board.terminal()\n",
        "        if terminal:\n",
        "            if board.score() == 1:\n",
        "                win_white += 1\n",
        "            if board.score() == 0:\n",
        "                win_black += 1\n",
        "            winner.append(board.score())"
      ],
      "metadata": {
        "id": "ZkrnZGm22eU1"
      },
      "execution_count": null,
      "outputs": []
    },
    {
      "cell_type": "code",
      "source": [
        "print(winner)"
      ],
      "metadata": {
        "colab": {
          "base_uri": "https://localhost:8080/"
        },
        "id": "fHitMb6y2kZM",
        "outputId": "71184cff-e820-4879-e57b-2c70dfd2e660"
      },
      "execution_count": null,
      "outputs": [
        {
          "output_type": "stream",
          "name": "stdout",
          "text": [
            "[0.0, 0.0, 0.0, 0.5, 0.0, 0.0, 0.0, 0.0, 0.5, 0.0]\n"
          ]
        }
      ]
    },
    {
      "cell_type": "code",
      "source": [
        "win_black = 0\n",
        "win_white = 0\n",
        "winner = []\n",
        "for i in range(10):\n",
        "    board = Board()\n",
        "    terminal = False\n",
        "    while not terminal:\n",
        "        if board.turn == White:\n",
        "            move = BestMoveRAVE(board,1000)\n",
        "            board.play(move)\n",
        "        else:\n",
        "            move = BestMoveRAVE(board,1000)\n",
        "            board.play(move)\n",
        "        terminal = board.terminal()\n",
        "        if terminal:\n",
        "            if board.score() == 1:\n",
        "                win_white += 1\n",
        "            if board.score() == 0:\n",
        "                win_black += 1\n",
        "            winner.append(board.score())"
      ],
      "metadata": {
        "id": "OwJS7pBC2ry5"
      },
      "execution_count": null,
      "outputs": []
    },
    {
      "cell_type": "code",
      "source": [
        "print(winner)"
      ],
      "metadata": {
        "colab": {
          "base_uri": "https://localhost:8080/"
        },
        "id": "bUi5euqM2x_h",
        "outputId": "52b5b231-7e7d-45f9-ba86-b386228514c4"
      },
      "execution_count": null,
      "outputs": [
        {
          "output_type": "stream",
          "name": "stdout",
          "text": [
            "[0.5, 0.5, 0.5, 0.0, 0.5, 0.5, 0.0, 0.5, 0.5, 0.5]\n"
          ]
        }
      ]
    },
    {
      "cell_type": "code",
      "source": [
        "win_black = 0\n",
        "win_white = 0\n",
        "winner = []\n",
        "for i in range(10):\n",
        "    board = Board()\n",
        "    terminal = False\n",
        "    while not terminal:\n",
        "        if board.turn == White:\n",
        "            move = BestMoveUCTNested(board,1000)\n",
        "            board.play(move)\n",
        "        else:\n",
        "            move = BestMoveUCTNested(board,1000)\n",
        "            board.play(move)\n",
        "        terminal = board.terminal()\n",
        "        if terminal:\n",
        "            if board.score() == 1:\n",
        "                win_white += 1\n",
        "            if board.score() == 0:\n",
        "                win_black += 1\n",
        "            winner.append(board.score())"
      ],
      "metadata": {
        "id": "MAXG_Aiv21Hz"
      },
      "execution_count": null,
      "outputs": []
    },
    {
      "cell_type": "code",
      "source": [
        "print(winner)"
      ],
      "metadata": {
        "colab": {
          "base_uri": "https://localhost:8080/"
        },
        "id": "peOzLGLF26fB",
        "outputId": "a3b1d865-2029-4a5b-9105-90355ab551c7"
      },
      "execution_count": null,
      "outputs": [
        {
          "output_type": "stream",
          "name": "stdout",
          "text": [
            "[0.5, 0.5, 0.5, 0.5, 0.5, 0.5, 0.5, 0.5, 0.5, 0.5]\n"
          ]
        }
      ]
    },
    {
      "cell_type": "markdown",
      "source": [
        "# Time"
      ],
      "metadata": {
        "id": "U98oPRHetFUz"
      }
    },
    {
      "cell_type": "code",
      "source": [
        "starttime = datetime.datetime.now()\n",
        "board = Board()\n",
        "move = UCB(board,1000)\n",
        "board.play(move)\n",
        "endtime = datetime.datetime.now()\n",
        "print((endtime-starttime).seconds)"
      ],
      "metadata": {
        "colab": {
          "base_uri": "https://localhost:8080/"
        },
        "id": "nKI_M1X5tKnz",
        "outputId": "91f37b67-fee3-43d4-c09a-44d83f1bdecc"
      },
      "execution_count": null,
      "outputs": [
        {
          "output_type": "stream",
          "name": "stdout",
          "text": [
            "1\n"
          ]
        }
      ]
    },
    {
      "cell_type": "code",
      "source": [
        "starttime = datetime.datetime.now()\n",
        "board = Board()\n",
        "move = BestMoveRAVE(board,1000)\n",
        "board.play(move)\n",
        "endtime = datetime.datetime.now()\n",
        "print((endtime-starttime).seconds)"
      ],
      "metadata": {
        "colab": {
          "base_uri": "https://localhost:8080/"
        },
        "id": "tj8xvhOhtZxU",
        "outputId": "d58172cc-0db8-4533-dc82-fa7075346f5a"
      },
      "execution_count": null,
      "outputs": [
        {
          "output_type": "stream",
          "name": "stdout",
          "text": [
            "1\n"
          ]
        }
      ]
    },
    {
      "cell_type": "code",
      "source": [
        "starttime = datetime.datetime.now()\n",
        "board = Board()\n",
        "move = BestMoveUCTNested(board,1000)\n",
        "board.play(move)\n",
        "endtime = datetime.datetime.now()\n",
        "print((endtime-starttime).seconds)"
      ],
      "metadata": {
        "colab": {
          "base_uri": "https://localhost:8080/"
        },
        "id": "2LY3C-ivtEnd",
        "outputId": "0fd378c2-4312-478a-aece-33ccdb84815e"
      },
      "execution_count": null,
      "outputs": [
        {
          "output_type": "stream",
          "name": "stdout",
          "text": [
            "8\n"
          ]
        }
      ]
    },
    {
      "cell_type": "code",
      "source": [
        "starttime = datetime.datetime.now()\n",
        "board = Board()\n",
        "move = UCB(board,100)\n",
        "board.play(move)\n",
        "endtime = datetime.datetime.now()\n",
        "print((endtime-starttime).seconds)"
      ],
      "metadata": {
        "colab": {
          "base_uri": "https://localhost:8080/"
        },
        "id": "NWzqf3nttskb",
        "outputId": "2345a114-3752-4f6c-864d-f9faa4abc0f6"
      },
      "execution_count": null,
      "outputs": [
        {
          "output_type": "stream",
          "name": "stdout",
          "text": [
            "0\n"
          ]
        }
      ]
    },
    {
      "cell_type": "code",
      "source": [
        "starttime = datetime.datetime.now()\n",
        "board = Board()\n",
        "move = BestMoveRAVE(board,100)\n",
        "board.play(move)\n",
        "endtime = datetime.datetime.now()\n",
        "print((endtime-starttime).seconds)"
      ],
      "metadata": {
        "colab": {
          "base_uri": "https://localhost:8080/"
        },
        "id": "6L40u-cqtqNy",
        "outputId": "19403444-c1e4-497e-a000-32a262252ffd"
      },
      "execution_count": null,
      "outputs": [
        {
          "output_type": "stream",
          "name": "stdout",
          "text": [
            "0\n"
          ]
        }
      ]
    },
    {
      "cell_type": "code",
      "source": [
        "starttime = datetime.datetime.now()\n",
        "board = Board()\n",
        "move = BestMoveUCTNested(board,100)\n",
        "board.play(move)\n",
        "endtime = datetime.datetime.now()\n",
        "print((endtime-starttime).seconds)"
      ],
      "metadata": {
        "colab": {
          "base_uri": "https://localhost:8080/"
        },
        "id": "lZ9stoxHtghT",
        "outputId": "8f089cd1-26fb-4134-b4e2-d7a05d495a72"
      },
      "execution_count": null,
      "outputs": [
        {
          "output_type": "stream",
          "name": "stdout",
          "text": [
            "1\n"
          ]
        }
      ]
    },
    {
      "cell_type": "code",
      "source": [
        "starttime = datetime.datetime.now()\n",
        "board = Board()\n",
        "move = UCB(board,10000)\n",
        "board.play(move)\n",
        "endtime = datetime.datetime.now()\n",
        "print((endtime-starttime).seconds)"
      ],
      "metadata": {
        "colab": {
          "base_uri": "https://localhost:8080/"
        },
        "id": "rLWvDuKttwFh",
        "outputId": "3d74501d-25c6-493f-ff67-2a4e608be825"
      },
      "execution_count": null,
      "outputs": [
        {
          "output_type": "stream",
          "name": "stdout",
          "text": [
            "14\n"
          ]
        }
      ]
    },
    {
      "cell_type": "code",
      "source": [
        "starttime = datetime.datetime.now()\n",
        "board = Board()\n",
        "move = BestMoveRAVE(board,10000)\n",
        "board.play(move)\n",
        "endtime = datetime.datetime.now()\n",
        "print((endtime-starttime).seconds)"
      ],
      "metadata": {
        "colab": {
          "base_uri": "https://localhost:8080/"
        },
        "id": "WIr5a7w9tzyP",
        "outputId": "1a1040d9-9740-4672-aade-12e85910d46b"
      },
      "execution_count": null,
      "outputs": [
        {
          "output_type": "stream",
          "name": "stdout",
          "text": [
            "19\n"
          ]
        }
      ]
    },
    {
      "cell_type": "code",
      "source": [
        "starttime = datetime.datetime.now()\n",
        "board = Board()\n",
        "move = BestMoveUCTNested(board,10000)\n",
        "board.play(move)\n",
        "endtime = datetime.datetime.now()\n",
        "print((endtime-starttime).seconds)"
      ],
      "metadata": {
        "colab": {
          "base_uri": "https://localhost:8080/"
        },
        "id": "A8N3pStkt3xz",
        "outputId": "0d1bdfa2-f6ee-4f16-fe7a-0149991d8b8f"
      },
      "execution_count": null,
      "outputs": [
        {
          "output_type": "stream",
          "name": "stdout",
          "text": [
            "31\n"
          ]
        }
      ]
    }
  ]
}