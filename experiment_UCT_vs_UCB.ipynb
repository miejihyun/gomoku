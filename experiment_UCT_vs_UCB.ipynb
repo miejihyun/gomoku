{
  "nbformat": 4,
  "nbformat_minor": 0,
  "metadata": {
    "colab": {
      "name": "UCT vs UCB.ipynb",
      "provenance": [],
      "collapsed_sections": []
    },
    "kernelspec": {
      "name": "python3",
      "display_name": "Python 3"
    },
    "language_info": {
      "name": "python"
    }
  },
  "cells": [
    {
      "cell_type": "code",
      "execution_count": 1,
      "metadata": {
        "colab": {
          "base_uri": "https://localhost:8080/"
        },
        "id": "lQ7GdDp8xvvU",
        "outputId": "08b3ca28-6961-49d3-9e9c-41c03e5231a3"
      },
      "outputs": [
        {
          "output_type": "stream",
          "name": "stdout",
          "text": [
            "Cloning into 'gomoku'...\n",
            "remote: Enumerating objects: 157, done.\u001b[K\n",
            "remote: Counting objects: 100% (157/157), done.\u001b[K\n",
            "remote: Compressing objects: 100% (108/108), done.\u001b[K\n",
            "remote: Total 157 (delta 88), reused 109 (delta 45), pack-reused 0\u001b[K\n",
            "Receiving objects: 100% (157/157), 44.41 KiB | 7.40 MiB/s, done.\n",
            "Resolving deltas: 100% (88/88), done.\n"
          ]
        }
      ],
      "source": [
        "!git clone https://github.com/miejihyun/gomoku.git"
      ]
    },
    {
      "cell_type": "code",
      "source": [
        "%cd gomoku"
      ],
      "metadata": {
        "colab": {
          "base_uri": "https://localhost:8080/"
        },
        "id": "0ZvdhCjQx0K-",
        "outputId": "b0235d1b-7224-48da-e604-fc8644bcda5b"
      },
      "execution_count": 2,
      "outputs": [
        {
          "output_type": "stream",
          "name": "stdout",
          "text": [
            "/content/gomoku\n"
          ]
        }
      ]
    },
    {
      "cell_type": "code",
      "source": [
        "from board import Board\n",
        "from move import Move\n",
        "import datetime\n",
        "from basic import *\n",
        "from ucb import UCB\n",
        "from uct import BestMoveUCT\n",
        "from rave import BestMoveRAVE\n",
        "import numpy as np"
      ],
      "metadata": {
        "id": "5EUMIhw7JMyc"
      },
      "execution_count": 3,
      "outputs": []
    },
    {
      "cell_type": "code",
      "source": [
        "print(Dx,Dy)"
      ],
      "metadata": {
        "colab": {
          "base_uri": "https://localhost:8080/"
        },
        "id": "bu4cYwoGSMX6",
        "outputId": "5de44bfd-7f86-4336-96a9-1f70b362ee6a"
      },
      "execution_count": 4,
      "outputs": [
        {
          "output_type": "stream",
          "name": "stdout",
          "text": [
            "9 9\n"
          ]
        }
      ]
    },
    {
      "cell_type": "code",
      "source": [
        ""
      ],
      "metadata": {
        "id": "4V5ExFSLgf9N"
      },
      "execution_count": null,
      "outputs": []
    },
    {
      "cell_type": "markdown",
      "source": [
        "# 9*9 UCT vs UCB"
      ],
      "metadata": {
        "id": "I4aXvR0W8HXQ"
      }
    },
    {
      "cell_type": "markdown",
      "source": [
        "- UCT: White\n",
        "- UCB: Black\n"
      ],
      "metadata": {
        "id": "wt5lzeCr8cWC"
      }
    },
    {
      "cell_type": "code",
      "source": [
        "win_black = 0\n",
        "win_white = 0\n",
        "winner = []\n",
        "for i in range(10):\n",
        "    board = Board()\n",
        "    terminal = False\n",
        "    while not terminal:\n",
        "        if board.turn == White:\n",
        "            move = BestMoveUCT(board,1000)\n",
        "            board.play(move)\n",
        "        else:\n",
        "            move = UCB(board,1000)\n",
        "            board.play(move)\n",
        "        terminal = board.terminal()\n",
        "        if terminal:\n",
        "            if board.score() == 1:\n",
        "                win_white += 1\n",
        "            if board.score() == 0:\n",
        "                win_black += 1\n",
        "            winner.append(board.score())\n"
      ],
      "metadata": {
        "id": "f8IkNHAUSO12"
      },
      "execution_count": 4,
      "outputs": []
    },
    {
      "cell_type": "code",
      "source": [
        "print(winner)"
      ],
      "metadata": {
        "colab": {
          "base_uri": "https://localhost:8080/"
        },
        "id": "aP7jbmlk8bUX",
        "outputId": "9f14e538-5247-4181-b6ac-6734f11b6a81"
      },
      "execution_count": 5,
      "outputs": [
        {
          "output_type": "stream",
          "name": "stdout",
          "text": [
            "[0.0, 0.0, 0.0, 0.0, 1.0, 1.0, 0.0, 1.0, 1.0, 1.0]\n"
          ]
        }
      ]
    },
    {
      "cell_type": "code",
      "source": [
        "#n=100\n",
        "win_black = 0\n",
        "win_white = 0\n",
        "winner = []\n",
        "for i in range(10):\n",
        "    board = Board()\n",
        "    terminal = False\n",
        "    while not terminal:\n",
        "        if board.turn == White:\n",
        "            move = BestMoveUCT(board,100)\n",
        "            board.play(move)\n",
        "        else:\n",
        "            move = UCB(board,100)\n",
        "            board.play(move)\n",
        "        terminal = board.terminal()\n",
        "        if terminal:\n",
        "            if board.score() == 1:\n",
        "                win_white += 1\n",
        "            if board.score() == 0:\n",
        "                win_black += 1\n",
        "            winner.append(board.score())"
      ],
      "metadata": {
        "id": "3z5dSngfyD7S"
      },
      "execution_count": 5,
      "outputs": []
    },
    {
      "cell_type": "code",
      "source": [
        "print(winner)"
      ],
      "metadata": {
        "colab": {
          "base_uri": "https://localhost:8080/"
        },
        "id": "hdk9AuCIyJcv",
        "outputId": "046b4d3f-cb36-48c5-c648-8051589ab33a"
      },
      "execution_count": 6,
      "outputs": [
        {
          "output_type": "stream",
          "name": "stdout",
          "text": [
            "[0.0, 0.0, 0.0, 1.0, 1.0, 0.0, 1.0, 0.0, 1.0, 1.0]\n"
          ]
        }
      ]
    },
    {
      "cell_type": "markdown",
      "source": [
        "- UCT: Black\n",
        "- UCB: White\n"
      ],
      "metadata": {
        "id": "dReBs8RLI1J5"
      }
    },
    {
      "cell_type": "code",
      "source": [
        "win_black_inv = 0\n",
        "win_white_inv = 0\n",
        "winner_inv = []\n",
        "for i in range(10):\n",
        "    board = Board()\n",
        "    terminal = False\n",
        "    while not terminal:\n",
        "        if board.turn == White:\n",
        "            move = UCB(board,1000)\n",
        "            board.play(move)\n",
        "        else:\n",
        "            move = BestMoveUCT(board,1000)\n",
        "            board.play(move)\n",
        "        terminal = board.terminal()\n",
        "        if terminal:\n",
        "            if board.score() == 1:\n",
        "                win_white_inv += 1\n",
        "            if board.score() == 0:\n",
        "                win_black_inv += 1\n",
        "            winner_inv.append(board.score())"
      ],
      "metadata": {
        "id": "MEtDYuP-JBFl"
      },
      "execution_count": 6,
      "outputs": []
    },
    {
      "cell_type": "code",
      "source": [
        "print(winner_inv)"
      ],
      "metadata": {
        "colab": {
          "base_uri": "https://localhost:8080/"
        },
        "id": "0Ys70cd-JDT-",
        "outputId": "59e1af87-eb55-4e24-ab41-432f6c603a47"
      },
      "execution_count": 7,
      "outputs": [
        {
          "output_type": "stream",
          "name": "stdout",
          "text": [
            "[1.0, 1.0, 1.0, 1.0, 1.0, 0.0, 1.0, 1.0, 0.0, 0.0]\n"
          ]
        }
      ]
    },
    {
      "cell_type": "code",
      "source": [
        "#n=100\n",
        "win_black_inv = 0\n",
        "win_white_inv = 0\n",
        "winner_inv = []\n",
        "for i in range(10):\n",
        "    board = Board()\n",
        "    terminal = False\n",
        "    while not terminal:\n",
        "        if board.turn == White:\n",
        "            move = UCB(board,100)\n",
        "            board.play(move)\n",
        "        else:\n",
        "            move = BestMoveUCT(board,100)\n",
        "            board.play(move)\n",
        "        terminal = board.terminal()\n",
        "        if terminal:\n",
        "            if board.score() == 1:\n",
        "                win_white_inv += 1\n",
        "            if board.score() == 0:\n",
        "                win_black_inv += 1\n",
        "            winner_inv.append(board.score())"
      ],
      "metadata": {
        "id": "LMVgD-VbyLc3"
      },
      "execution_count": 7,
      "outputs": []
    },
    {
      "cell_type": "code",
      "source": [
        "print(winner_inv)"
      ],
      "metadata": {
        "colab": {
          "base_uri": "https://localhost:8080/"
        },
        "id": "XZ72QcyvyOC0",
        "outputId": "90dbbfd9-c9dc-45d6-a4ac-6f2a2e71a531"
      },
      "execution_count": 8,
      "outputs": [
        {
          "output_type": "stream",
          "name": "stdout",
          "text": [
            "[1.0, 0.0, 1.0, 1.0, 1.0, 0.0, 0.0, 0.0, 0.0, 1.0]\n"
          ]
        }
      ]
    },
    {
      "cell_type": "markdown",
      "source": [
        "# 3*3 Setting"
      ],
      "metadata": {
        "id": "HHeAshQFd-3G"
      }
    },
    {
      "cell_type": "markdown",
      "source": [
        "- UCT: White\n",
        "- UCB: Black\n"
      ],
      "metadata": {
        "id": "cWHlgTdSeMxl"
      }
    },
    {
      "cell_type": "code",
      "source": [
        "win_black = 0\n",
        "win_white = 0\n",
        "winner = []\n",
        "for i in range(10):\n",
        "    board = Board()\n",
        "    terminal = False\n",
        "    while not terminal:\n",
        "        if board.turn == White:\n",
        "            move = BestMoveUCT(board,1000)\n",
        "            board.play(move)\n",
        "        else:\n",
        "            move = UCB(board,1000)\n",
        "            board.play(move)\n",
        "        terminal = board.terminal()\n",
        "        if terminal:\n",
        "            if board.score() == 1:\n",
        "                win_white += 1\n",
        "            if board.score() == 0:\n",
        "                win_black += 1\n",
        "            winner.append(board.score())"
      ],
      "metadata": {
        "id": "p0rbWQqteMDg"
      },
      "execution_count": 4,
      "outputs": []
    },
    {
      "cell_type": "code",
      "source": [
        "print(winner)"
      ],
      "metadata": {
        "colab": {
          "base_uri": "https://localhost:8080/"
        },
        "id": "CW_TmeWdeMGd",
        "outputId": "a99ad30d-e904-48e7-9e52-c4fbc8597b0e"
      },
      "execution_count": 5,
      "outputs": [
        {
          "output_type": "stream",
          "name": "stdout",
          "text": [
            "[0.5, 0.5, 0.5, 0.5, 0.5, 0.5, 0.5, 0.5, 0.5, 0.5]\n"
          ]
        }
      ]
    },
    {
      "cell_type": "markdown",
      "source": [
        "- UCT: Black\n",
        "- UCB: White\n"
      ],
      "metadata": {
        "id": "2E8ISWbyeUkR"
      }
    },
    {
      "cell_type": "code",
      "source": [
        "win_black_inv = 0\n",
        "win_white_inv = 0\n",
        "winner_inv = []\n",
        "for i in range(10):\n",
        "    board = Board()\n",
        "    terminal = False\n",
        "    while not terminal:\n",
        "        if board.turn == White:\n",
        "            move = UCB(board,1000)\n",
        "            board.play(move)\n",
        "        else:\n",
        "            move = BestMoveUCT(board,1000)\n",
        "            board.play(move)\n",
        "        terminal = board.terminal()\n",
        "        if terminal:\n",
        "            if board.score() == 1:\n",
        "                win_white_inv += 1\n",
        "            if board.score() == 0:\n",
        "                win_black_inv += 1\n",
        "            winner_inv.append(board.score())"
      ],
      "metadata": {
        "id": "WuZM_lDSeMJx"
      },
      "execution_count": 6,
      "outputs": []
    },
    {
      "cell_type": "code",
      "source": [
        "print(winner_inv)"
      ],
      "metadata": {
        "colab": {
          "base_uri": "https://localhost:8080/"
        },
        "id": "fxlpLQEBebXn",
        "outputId": "be4dda4c-48a3-43e2-a8c0-ea34dd078a45"
      },
      "execution_count": 7,
      "outputs": [
        {
          "output_type": "stream",
          "name": "stdout",
          "text": [
            "[0.5, 0.0, 0.0, 0.0, 0.0, 0.0, 0.5, 0.0, 0.0, 0.0]\n"
          ]
        }
      ]
    },
    {
      "cell_type": "code",
      "source": [
        ""
      ],
      "metadata": {
        "id": "BEqVO-XxSs7P"
      },
      "execution_count": null,
      "outputs": []
    }
  ]
}
