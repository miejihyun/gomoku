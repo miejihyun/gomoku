{
  "nbformat": 4,
  "nbformat_minor": 0,
  "metadata": {
    "colab": {
      "name": "UCT vs RAVE.ipynb",
      "provenance": [],
      "collapsed_sections": []
    },
    "kernelspec": {
      "name": "python3",
      "display_name": "Python 3"
    },
    "language_info": {
      "name": "python"
    }
  },
  "cells": [
    {
      "cell_type": "code",
      "execution_count": 3,
      "metadata": {
        "id": "5gruiS47EeFo",
        "colab": {
          "base_uri": "https://localhost:8080/"
        },
        "outputId": "582398d6-0643-4c9d-dfcd-56d85024eafc"
      },
      "outputs": [
        {
          "output_type": "stream",
          "name": "stdout",
          "text": [
            "Cloning into 'gomoku'...\n",
            "remote: Enumerating objects: 151, done.\u001b[K\n",
            "remote: Counting objects: 100% (151/151), done.\u001b[K\n",
            "remote: Compressing objects: 100% (102/102), done.\u001b[K\n",
            "remote: Total 151 (delta 86), reused 110 (delta 45), pack-reused 0\u001b[K\n",
            "Receiving objects: 100% (151/151), 40.58 KiB | 349.00 KiB/s, done.\n",
            "Resolving deltas: 100% (86/86), done.\n"
          ]
        }
      ],
      "source": [
        "!git clone https://github.com/miejihyun/gomoku.git"
      ]
    },
    {
      "cell_type": "code",
      "source": [
        "%cd gomoku"
      ],
      "metadata": {
        "colab": {
          "base_uri": "https://localhost:8080/"
        },
        "id": "cVWtxnqSPCxY",
        "outputId": "3192b497-3a26-4cbd-b666-79fb665e32f8"
      },
      "execution_count": 2,
      "outputs": [
        {
          "output_type": "stream",
          "name": "stdout",
          "text": [
            "/content/gomoku\n"
          ]
        }
      ]
    },
    {
      "cell_type": "code",
      "source": [
        "from board import Board\n",
        "from move import Move\n",
        "import datetime\n",
        "from basic import *\n",
        "from ucb import UCB\n",
        "from uct import BestMoveUCT\n",
        "from rave import BestMoveRAVE\n",
        "import numpy as np"
      ],
      "metadata": {
        "id": "z_dSEuLJYFTn"
      },
      "execution_count": 3,
      "outputs": []
    },
    {
      "cell_type": "markdown",
      "source": [
        "# UCT vs RAVE"
      ],
      "metadata": {
        "id": "XSppnf61rKRM"
      }
    },
    {
      "cell_type": "markdown",
      "source": [
        "## Original Setting (15*15)\n"
      ],
      "metadata": {
        "id": "0uGK_xGcCwM9"
      }
    },
    {
      "cell_type": "markdown",
      "source": [
        "- Black: Rave\n",
        "- White: UCT"
      ],
      "metadata": {
        "id": "3Eh2KQ2-rNjD"
      }
    },
    {
      "cell_type": "code",
      "source": [
        "print(Dx,Dy)"
      ],
      "metadata": {
        "colab": {
          "base_uri": "https://localhost:8080/"
        },
        "id": "kQdbFg6pIqwL",
        "outputId": "d5b1eaed-eaf9-4383-83cd-147df04b7793"
      },
      "execution_count": 7,
      "outputs": [
        {
          "output_type": "stream",
          "name": "stdout",
          "text": [
            "15 15\n"
          ]
        }
      ]
    },
    {
      "cell_type": "code",
      "source": [
        "win_black = 0\n",
        "win_white = 0\n",
        "winner = []\n",
        "for i in range(10):\n",
        "    board = Board()\n",
        "    terminal = False\n",
        "    while not terminal:\n",
        "        if board.turn == White:\n",
        "            move = BestMoveUCT(board,1000)\n",
        "            board.play(move)\n",
        "        else:\n",
        "            move = BestMoveRAVE(board,1000)\n",
        "            board.play(move)\n",
        "        terminal = board.terminal()\n",
        "        if terminal:\n",
        "            if board.score() == 1:\n",
        "                win_white += 1\n",
        "            if board.score() == 0:\n",
        "                win_black += 1\n",
        "            winner.append(board.score())"
      ],
      "metadata": {
        "id": "oSZkT6Y4Iq2f"
      },
      "execution_count": 5,
      "outputs": []
    },
    {
      "cell_type": "code",
      "source": [
        "print(winner)"
      ],
      "metadata": {
        "colab": {
          "base_uri": "https://localhost:8080/"
        },
        "id": "noRnjxzlIxPt",
        "outputId": "671ef010-5714-412e-90f9-e2f237d550bd"
      },
      "execution_count": 6,
      "outputs": [
        {
          "output_type": "stream",
          "name": "stdout",
          "text": [
            "[0.0, 1.0, 0.0, 0.0, 0.0, 0.0, 0.0, 0.0, 0.0, 0.0]\n"
          ]
        }
      ]
    },
    {
      "cell_type": "markdown",
      "source": [
        "- Black: UCT\n",
        "- White: Rave"
      ],
      "metadata": {
        "id": "cNVz6fWj9IOb"
      }
    },
    {
      "cell_type": "code",
      "source": [
        "win_black_inv = 0\n",
        "win_white_inv = 0\n",
        "winner_inv = []\n",
        "for i in range(10):\n",
        "    board = Board()\n",
        "    terminal = False\n",
        "    while not terminal:\n",
        "        if board.turn == White:\n",
        "            move = BestMoveRAVE(board,1000)\n",
        "            board.play(move)\n",
        "        else:\n",
        "            move = BestMoveUCT(board,1000)\n",
        "            board.play(move)\n",
        "        terminal = board.terminal()\n",
        "        if terminal:\n",
        "            if board.score() == 1:\n",
        "                win_white_inv += 1\n",
        "            if board.score() == 0:\n",
        "                win_black_inv += 1\n",
        "            winner_inv.append(board.score())"
      ],
      "metadata": {
        "id": "qLu0Ryyv9IoO"
      },
      "execution_count": 8,
      "outputs": []
    },
    {
      "cell_type": "code",
      "source": [
        "print(winner_inv)"
      ],
      "metadata": {
        "colab": {
          "base_uri": "https://localhost:8080/"
        },
        "id": "-nU-K0Yj9Sic",
        "outputId": "aa5aab88-5997-46e7-f536-c313ef0d9371"
      },
      "execution_count": 9,
      "outputs": [
        {
          "output_type": "stream",
          "name": "stdout",
          "text": [
            "[1.0, 1.0, 1.0, 1.0, 1.0, 1.0, 1.0, 1.0, 1.0, 1.0]\n"
          ]
        }
      ]
    },
    {
      "cell_type": "markdown",
      "source": [
        "# 9*9 Setting\n"
      ],
      "metadata": {
        "id": "qGuSM2pe82Pv"
      }
    },
    {
      "cell_type": "markdown",
      "source": [
        "- Black: Rave\n",
        "- White: UCT"
      ],
      "metadata": {
        "id": "_HhP_9HO88GX"
      }
    },
    {
      "cell_type": "code",
      "source": [
        "win_black = 0\n",
        "win_white = 0\n",
        "winner = []\n",
        "for i in range(10):\n",
        "    board = Board()\n",
        "    terminal = False\n",
        "    while not terminal:\n",
        "        if board.turn == White:\n",
        "            move = BestMoveUCT(board,1000)\n",
        "            board.play(move)\n",
        "        else:\n",
        "            move = BestMoveRAVE(board,1000)\n",
        "            board.play(move)\n",
        "        terminal = board.terminal()\n",
        "        if terminal:\n",
        "            if board.score() == 1:\n",
        "                win_white += 1\n",
        "            if board.score() == 0:\n",
        "                win_black += 1\n",
        "            winner.append(board.score())"
      ],
      "metadata": {
        "id": "asVQP_mMrUcN"
      },
      "execution_count": 6,
      "outputs": []
    },
    {
      "cell_type": "code",
      "source": [
        "print(winner)"
      ],
      "metadata": {
        "colab": {
          "base_uri": "https://localhost:8080/"
        },
        "id": "BWDvPPhq1Apr",
        "outputId": "af69e8bb-6ad1-47da-c2f0-3f9f35bafbee"
      },
      "execution_count": 7,
      "outputs": [
        {
          "output_type": "stream",
          "name": "stdout",
          "text": [
            "[0.0, 0.0, 0.0, 0.0, 1.0, 0.0, 0.0, 0.0, 0.0, 0.0]\n"
          ]
        }
      ]
    },
    {
      "cell_type": "markdown",
      "source": [
        "- Black: UCT\n",
        "- White: Rave"
      ],
      "metadata": {
        "id": "zpjm6HOv2qLx"
      }
    },
    {
      "cell_type": "code",
      "source": [
        "win_black_inv = 0\n",
        "win_white_inv = 0\n",
        "winner_inv = []\n",
        "for i in range(10):\n",
        "    board = Board()\n",
        "    terminal = False\n",
        "    while not terminal:\n",
        "        if board.turn == White:\n",
        "            move = BestMoveRAVE(board,1000)\n",
        "            board.play(move)\n",
        "        else:\n",
        "            move = BestMoveUCT(board,1000)\n",
        "            board.play(move)\n",
        "        terminal = board.terminal()\n",
        "        if terminal:\n",
        "            if board.score() == 1:\n",
        "                win_white_inv += 1\n",
        "            if board.score() == 0:\n",
        "                win_black_inv += 1\n",
        "            winner_inv.append(board.score())"
      ],
      "metadata": {
        "id": "dfO9kdji1BU4"
      },
      "execution_count": 8,
      "outputs": []
    },
    {
      "cell_type": "code",
      "source": [
        "print(winner_inv)"
      ],
      "metadata": {
        "colab": {
          "base_uri": "https://localhost:8080/"
        },
        "id": "kfVMsnhbBw7V",
        "outputId": "6d88e109-9873-4e4d-9ccf-e3554e3fac1f"
      },
      "execution_count": 9,
      "outputs": [
        {
          "output_type": "stream",
          "name": "stdout",
          "text": [
            "[1.0, 1.0, 1.0, 1.0, 1.0, 1.0, 1.0, 1.0, 1.0, 1.0]\n"
          ]
        }
      ]
    },
    {
      "cell_type": "markdown",
      "source": [
        "# Time\n"
      ],
      "metadata": {
        "id": "lB6ns9c0CS94"
      }
    },
    {
      "cell_type": "markdown",
      "source": [
        "## Original setting (15*15)"
      ],
      "metadata": {
        "id": "BIrnX5geCe2k"
      }
    },
    {
      "cell_type": "code",
      "source": [
        "print(Dx,Dy)"
      ],
      "metadata": {
        "colab": {
          "base_uri": "https://localhost:8080/"
        },
        "id": "Il_-40ZZGw0K",
        "outputId": "cd7f90f2-4610-4a9e-edfb-7ecbc6e23693"
      },
      "execution_count": 7,
      "outputs": [
        {
          "output_type": "stream",
          "name": "stdout",
          "text": [
            "15 15\n"
          ]
        }
      ]
    },
    {
      "cell_type": "code",
      "source": [
        "#UCT Time n=1000\n",
        "starttime = datetime.datetime.now()\n",
        "board = Board()\n",
        "move = BestMoveUCT(board,1000)\n",
        "board.play(move)\n",
        "endtime = datetime.datetime.now()\n",
        "print((endtime-starttime).seconds)"
      ],
      "metadata": {
        "colab": {
          "base_uri": "https://localhost:8080/"
        },
        "id": "xD-Slp_vCanM",
        "outputId": "5f4ecbdd-8a23-45ce-e192-a1264fd65348"
      },
      "execution_count": 6,
      "outputs": [
        {
          "output_type": "stream",
          "name": "stdout",
          "text": [
            "101\n"
          ]
        }
      ]
    },
    {
      "cell_type": "code",
      "source": [
        "#UCT Time n=100\n",
        "starttime = datetime.datetime.now()\n",
        "board = Board()\n",
        "move = BestMoveUCT(board,100)\n",
        "board.play(move)\n",
        "endtime = datetime.datetime.now()\n",
        "print((endtime-starttime).seconds)"
      ],
      "metadata": {
        "colab": {
          "base_uri": "https://localhost:8080/"
        },
        "id": "5uHPlWyZC5KK",
        "outputId": "281e203d-d1ba-4b12-bd9f-5c1cf1b62c60"
      },
      "execution_count": 12,
      "outputs": [
        {
          "output_type": "stream",
          "name": "stdout",
          "text": [
            "2\n"
          ]
        }
      ]
    },
    {
      "cell_type": "markdown",
      "source": [
        "## Setting (9 * 9) and  (3*3)"
      ],
      "metadata": {
        "id": "JS4P4_LQEE8x"
      }
    },
    {
      "cell_type": "code",
      "source": [
        "print(Dx,Dy)"
      ],
      "metadata": {
        "colab": {
          "base_uri": "https://localhost:8080/"
        },
        "id": "Q0TfsdK8Hh71",
        "outputId": "8b9a328a-54e8-400a-bebf-37fc180f9185"
      },
      "execution_count": 3,
      "outputs": [
        {
          "output_type": "stream",
          "name": "stdout",
          "text": [
            "9 9\n"
          ]
        }
      ]
    },
    {
      "cell_type": "code",
      "source": [
        "#UCT Time n=1000 9*9\n",
        "starttime = datetime.datetime.now()\n",
        "board = Board()\n",
        "move = BestMoveUCT(board,1000)\n",
        "board.play(move)\n",
        "endtime = datetime.datetime.now()\n",
        "print((endtime-starttime).seconds)"
      ],
      "metadata": {
        "colab": {
          "base_uri": "https://localhost:8080/"
        },
        "id": "92c7eJLcEIM3",
        "outputId": "5cf0ae11-7fd6-4228-f7e3-6add3c21aba7"
      },
      "execution_count": 6,
      "outputs": [
        {
          "output_type": "stream",
          "name": "stdout",
          "text": [
            "26\n"
          ]
        }
      ]
    },
    {
      "cell_type": "code",
      "source": [
        "#UCT Time n=100 9*9\n",
        "starttime = datetime.datetime.now()\n",
        "board = Board()\n",
        "move = BestMoveUCT(board,100)\n",
        "board.play(move)\n",
        "endtime = datetime.datetime.now()\n",
        "print((endtime-starttime).seconds)"
      ],
      "metadata": {
        "colab": {
          "base_uri": "https://localhost:8080/"
        },
        "id": "iSORvpfuHlhs",
        "outputId": "a3a58ffe-8d80-4069-8efe-887db1fb480a"
      },
      "execution_count": 7,
      "outputs": [
        {
          "output_type": "stream",
          "name": "stdout",
          "text": [
            "2\n"
          ]
        }
      ]
    },
    {
      "cell_type": "code",
      "source": [
        "print(Dx,Dy)"
      ],
      "metadata": {
        "colab": {
          "base_uri": "https://localhost:8080/"
        },
        "id": "LunQcPL1IQ4L",
        "outputId": "bd923674-9574-4115-c758-e9e9676a949c"
      },
      "execution_count": 3,
      "outputs": [
        {
          "output_type": "stream",
          "name": "stdout",
          "text": [
            "3 3\n"
          ]
        }
      ]
    },
    {
      "cell_type": "code",
      "source": [
        "#UCT Time n=1000 3*3\n",
        "starttime = datetime.datetime.now()\n",
        "board = Board()\n",
        "move = BestMoveUCT(board,1000)\n",
        "board.play(move)\n",
        "endtime = datetime.datetime.now()\n",
        "print((endtime-starttime).seconds)"
      ],
      "metadata": {
        "colab": {
          "base_uri": "https://localhost:8080/"
        },
        "id": "Tz6f9B6bEJlR",
        "outputId": "0086b959-ea7f-479f-bbaa-cc18baff231c"
      },
      "execution_count": 4,
      "outputs": [
        {
          "output_type": "stream",
          "name": "stdout",
          "text": [
            "2\n"
          ]
        }
      ]
    },
    {
      "cell_type": "code",
      "source": [
        "#UCT Time n=100 3*3\n",
        "starttime = datetime.datetime.now()\n",
        "board = Board()\n",
        "move = BestMoveUCT(board,100)\n",
        "board.play(move)\n",
        "endtime = datetime.datetime.now()\n",
        "print((endtime-starttime).seconds)"
      ],
      "metadata": {
        "colab": {
          "base_uri": "https://localhost:8080/"
        },
        "id": "keNd0rwMGGlL",
        "outputId": "20535e0c-7e17-49d6-fce8-e7e6e1fd72fb"
      },
      "execution_count": 6,
      "outputs": [
        {
          "output_type": "stream",
          "name": "stdout",
          "text": [
            "0\n"
          ]
        }
      ]
    }
  ]
}