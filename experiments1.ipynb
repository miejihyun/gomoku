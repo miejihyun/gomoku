{
  "nbformat": 4,
  "nbformat_minor": 0,
  "metadata": {
    "colab": {
      "name": "experiments1.ipynb",
      "provenance": [],
      "collapsed_sections": []
    },
    "kernelspec": {
      "name": "python3",
      "display_name": "Python 3"
    },
    "language_info": {
      "name": "python"
    }
  },
  "cells": [
    {
      "cell_type": "markdown",
      "source": [
        "# Prep"
      ],
      "metadata": {
        "id": "r46wrCt74H3w"
      }
    },
    {
      "cell_type": "code",
      "execution_count": null,
      "metadata": {
        "colab": {
          "base_uri": "https://localhost:8080/"
        },
        "id": "is7Ns0Jh3Dj9",
        "outputId": "990f6bd0-f731-429b-a3ba-7b0a56948817"
      },
      "outputs": [
        {
          "output_type": "stream",
          "name": "stdout",
          "text": [
            "Drive already mounted at /content/drive; to attempt to forcibly remount, call drive.mount(\"/content/drive\", force_remount=True).\n"
          ]
        }
      ],
      "source": [
        "from google.colab import drive\n",
        "drive.mount('/content/drive')\n",
        "\n",
        "import os\n",
        "path = \"/content/drive/My Drive/gomoku project\"\n",
        "os.chdir(path)"
      ]
    },
    {
      "cell_type": "code",
      "source": [
        "from board import Board\n",
        "from move import Move\n",
        "import datetime\n",
        "from basic import *\n",
        "from ucb import UCB\n",
        "from rave import BestMoveRAVE\n",
        "from uctNested import BestMoveUCTNested\n",
        "import numpy as np"
      ],
      "metadata": {
        "id": "Vm9T6mVH3qwD"
      },
      "execution_count": null,
      "outputs": []
    },
    {
      "cell_type": "markdown",
      "source": [
        "# Battle 1"
      ],
      "metadata": {
        "id": "QvTOlGmv4J7x"
      }
    },
    {
      "cell_type": "markdown",
      "source": [
        "UCB vs RAVE\n",
        "\n",
        "- black: UCB\n",
        "- white: RAVE"
      ],
      "metadata": {
        "id": "4_ImA7RN4L2f"
      }
    },
    {
      "cell_type": "code",
      "source": [
        "win_black = 0\n",
        "win_white = 0\n",
        "winner = []\n",
        "for i in range(10):\n",
        "    board = Board()\n",
        "    terminal = False\n",
        "    while not terminal:\n",
        "        if board.turn == White:\n",
        "            move = BestMoveRAVE(board,1000)\n",
        "            board.play(move)\n",
        "        else:\n",
        "            move = UCB(board,1000)\n",
        "            board.play(move)\n",
        "        terminal = board.terminal()\n",
        "        if terminal:\n",
        "            if board.score() == 1:\n",
        "                win_white += 1\n",
        "            if board.score() == 0:\n",
        "                win_black += 1\n",
        "            winner.append(board.score())\n"
      ],
      "metadata": {
        "id": "u501RXJz4FjZ"
      },
      "execution_count": null,
      "outputs": []
    },
    {
      "cell_type": "code",
      "source": [
        "print(winner)"
      ],
      "metadata": {
        "colab": {
          "base_uri": "https://localhost:8080/"
        },
        "id": "9JfUmXIhTlxU",
        "outputId": "6c17d23c-95c5-4b4d-c57e-e25b32dd9eb3"
      },
      "execution_count": null,
      "outputs": [
        {
          "output_type": "stream",
          "name": "stdout",
          "text": [
            "[1.0, 1.0, 1.0, 1.0, 1.0, 1.0, 1.0, 1.0, 1.0, 1.0]\n"
          ]
        }
      ]
    },
    {
      "cell_type": "markdown",
      "source": [
        "- black: RAVE\n",
        "- white: UCB"
      ],
      "metadata": {
        "id": "PPIIiXIXoMcY"
      }
    },
    {
      "cell_type": "code",
      "source": [
        "win_black_inv = 0\n",
        "win_white_inv = 0\n",
        "winner_inv = []\n",
        "for i in range(10):\n",
        "    board = Board()\n",
        "    terminal = False\n",
        "    while not terminal:\n",
        "        if board.turn == White:\n",
        "            move = UCB(board,1000)\n",
        "            board.play(move)\n",
        "        else:\n",
        "            move = BestMoveRAVE(board,1000)\n",
        "            board.play(move)\n",
        "        terminal = board.terminal()\n",
        "        if terminal:\n",
        "            if board.score() == 1:\n",
        "                win_white_inv += 1\n",
        "            if board.score() == 0:\n",
        "                win_black_inv += 1\n",
        "            winner_inv.append(board.score())\n"
      ],
      "metadata": {
        "id": "zFGqOnxsSRsW"
      },
      "execution_count": null,
      "outputs": []
    },
    {
      "cell_type": "code",
      "source": [
        "print(winner_inv)"
      ],
      "metadata": {
        "colab": {
          "base_uri": "https://localhost:8080/"
        },
        "id": "oGwgbkTmTpPf",
        "outputId": "1cf2f5a7-87b3-4abc-8ffb-13a454b316cb"
      },
      "execution_count": null,
      "outputs": [
        {
          "output_type": "stream",
          "name": "stdout",
          "text": [
            "[0.0, 0.0, 0.0, 0.0, 0.0, 0.0, 0.0, 0.0, 0.0, 0.0]\n"
          ]
        }
      ]
    },
    {
      "cell_type": "markdown",
      "source": [
        "# Self Battle"
      ],
      "metadata": {
        "id": "2Kl6HbF56hIr"
      }
    },
    {
      "cell_type": "code",
      "source": [
        "win_black = 0\n",
        "win_white = 0\n",
        "winner = []\n",
        "for i in range(10):\n",
        "    board = Board()\n",
        "    terminal = False\n",
        "    while not terminal:\n",
        "        if board.turn == White:\n",
        "            move = UCB(board,1000)\n",
        "            board.play(move)\n",
        "        else:\n",
        "            move = UCB(board,1000)\n",
        "            board.play(move)\n",
        "        terminal = board.terminal()\n",
        "        if terminal:\n",
        "            if board.score() == 1:\n",
        "                win_white += 1\n",
        "            if board.score() == 0:\n",
        "                win_black += 1\n",
        "            winner.append(board.score())\n"
      ],
      "metadata": {
        "id": "6_l9naao6jQB"
      },
      "execution_count": null,
      "outputs": []
    },
    {
      "cell_type": "code",
      "source": [
        "print(winner)"
      ],
      "metadata": {
        "colab": {
          "base_uri": "https://localhost:8080/"
        },
        "id": "HSK6qZZS6nd7",
        "outputId": "1a0110e6-6a8d-476a-8034-78fc41b7f39e"
      },
      "execution_count": null,
      "outputs": [
        {
          "output_type": "stream",
          "name": "stdout",
          "text": [
            "[1.0, 0.0, 1.0, 1.0, 1.0, 1.0, 1.0, 1.0, 0.0, 1.0]\n"
          ]
        }
      ]
    },
    {
      "cell_type": "code",
      "source": [
        "win_black = 0\n",
        "win_white = 0\n",
        "winner = []\n",
        "for i in range(10):\n",
        "    board = Board()\n",
        "    terminal = False\n",
        "    while not terminal:\n",
        "        if board.turn == White:\n",
        "            move = BestMoveRAVE(board,1000)\n",
        "            board.play(move)\n",
        "        else:\n",
        "            move = BestMoveRAVE(board,1000)\n",
        "            board.play(move)\n",
        "        terminal = board.terminal()\n",
        "        if terminal:\n",
        "            if board.score() == 1:\n",
        "                win_white += 1\n",
        "            if board.score() == 0:\n",
        "                win_black += 1\n",
        "            winner.append(board.score())\n"
      ],
      "metadata": {
        "id": "JQxbgnhA6rgH"
      },
      "execution_count": null,
      "outputs": []
    },
    {
      "cell_type": "code",
      "source": [
        "print(winner)"
      ],
      "metadata": {
        "colab": {
          "base_uri": "https://localhost:8080/"
        },
        "id": "uia-meWy61La",
        "outputId": "e7bf5eb2-9068-4413-cd53-0b761ad53284"
      },
      "execution_count": null,
      "outputs": [
        {
          "output_type": "stream",
          "name": "stdout",
          "text": [
            "[1.0, 0.0, 0.0, 0.0, 0.0, 1.0, 0.0, 0.0, 0.0, 0.0]\n"
          ]
        }
      ]
    },
    {
      "cell_type": "markdown",
      "source": [
        "# Time\n"
      ],
      "metadata": {
        "id": "bq-8El5loROS"
      }
    },
    {
      "cell_type": "code",
      "source": [
        "starttime = datetime.datetime.now()\n",
        "board = Board()\n",
        "move = UCB(board,100)\n",
        "board.play(move)\n",
        "endtime = datetime.datetime.now()\n",
        "print((endtime-starttime).seconds)"
      ],
      "metadata": {
        "colab": {
          "base_uri": "https://localhost:8080/"
        },
        "id": "lS1AYo-Su9co",
        "outputId": "d4353ba7-58e6-4f94-e2cc-46828697569c"
      },
      "execution_count": null,
      "outputs": [
        {
          "output_type": "stream",
          "name": "stdout",
          "text": [
            "2\n"
          ]
        }
      ]
    },
    {
      "cell_type": "code",
      "source": [
        "starttime = datetime.datetime.now()\n",
        "board = Board()\n",
        "move = BestMoveRAVE(board,100)\n",
        "board.play(move)\n",
        "endtime = datetime.datetime.now()\n",
        "print((endtime-starttime).seconds)"
      ],
      "metadata": {
        "colab": {
          "base_uri": "https://localhost:8080/"
        },
        "id": "GVGbGzu9u_3b",
        "outputId": "560f75b5-4888-4562-fc63-97aa53736af3"
      },
      "execution_count": null,
      "outputs": [
        {
          "output_type": "stream",
          "name": "stdout",
          "text": [
            "2\n"
          ]
        }
      ]
    },
    {
      "cell_type": "code",
      "source": [
        "starttime = datetime.datetime.now()\n",
        "board = Board()\n",
        "move = BestMoveUCTNested(board,100)\n",
        "board.play(move)\n",
        "endtime = datetime.datetime.now()\n",
        "print((endtime-starttime).seconds)"
      ],
      "metadata": {
        "colab": {
          "base_uri": "https://localhost:8080/"
        },
        "id": "1Er-n7EbopMN",
        "outputId": "ddcf7178-fe03-43e9-ee20-8139fc758814"
      },
      "execution_count": null,
      "outputs": [
        {
          "output_type": "stream",
          "name": "stdout",
          "text": [
            "2668\n"
          ]
        }
      ]
    },
    {
      "cell_type": "code",
      "source": [
        "starttime = datetime.datetime.now()\n",
        "board = Board()\n",
        "move = UCB(board,1000)\n",
        "board.play(move)\n",
        "endtime = datetime.datetime.now()\n",
        "print((endtime-starttime).seconds)"
      ],
      "metadata": {
        "colab": {
          "base_uri": "https://localhost:8080/"
        },
        "id": "5f-ZH36cvEwS",
        "outputId": "fec1b9f4-bee2-40a1-900f-ce213d3e3f24"
      },
      "execution_count": null,
      "outputs": [
        {
          "output_type": "stream",
          "name": "stdout",
          "text": [
            "25\n"
          ]
        }
      ]
    },
    {
      "cell_type": "code",
      "source": [
        "starttime = datetime.datetime.now()\n",
        "board = Board()\n",
        "move = BestMoveRAVE(board,1000)\n",
        "board.play(move)\n",
        "endtime = datetime.datetime.now()\n",
        "print((endtime-starttime).seconds)"
      ],
      "metadata": {
        "colab": {
          "base_uri": "https://localhost:8080/"
        },
        "id": "bYZakPCgvHKu",
        "outputId": "1544392c-19a3-418a-8cdd-5f90882e066e"
      },
      "execution_count": null,
      "outputs": [
        {
          "output_type": "stream",
          "name": "stdout",
          "text": [
            "26\n"
          ]
        }
      ]
    },
    {
      "cell_type": "code",
      "source": [
        "starttime = datetime.datetime.now()\n",
        "board = Board()\n",
        "move = BestMoveUCTNested(board,1000)\n",
        "board.play(move)\n",
        "endtime = datetime.datetime.now()\n",
        "print((endtime-starttime).seconds)"
      ],
      "metadata": {
        "colab": {
          "base_uri": "https://localhost:8080/"
        },
        "id": "8RMzVTTO3NZl",
        "outputId": "caa14ac4-5411-41d1-dfd3-20fcd6feac94"
      },
      "execution_count": null,
      "outputs": [
        {
          "output_type": "stream",
          "name": "stdout",
          "text": [
            "24939\n"
          ]
        }
      ]
    }
  ]
}